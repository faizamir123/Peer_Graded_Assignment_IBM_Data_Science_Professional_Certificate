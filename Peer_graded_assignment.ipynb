{
  "metadata": {
    "language_info": {
      "codemirror_mode": {
        "name": "python",
        "version": 3
      },
      "file_extension": ".py",
      "mimetype": "text/x-python",
      "name": "python",
      "nbconvert_exporter": "python",
      "pygments_lexer": "ipython3",
      "version": "3.8"
    },
    "kernelspec": {
      "name": "python",
      "display_name": "Pyolite",
      "language": "python"
    }
  },
  "nbformat_minor": 4,
  "nbformat": 4,
  "cells": [
    {
      "cell_type": "markdown",
      "source": "# My Jupyter Notebook on IBM Watson Studio",
      "metadata": {}
    },
    {
      "cell_type": "markdown",
      "source": "__Muhammad Faiz Amir Aththufail__\n<br>My desired occupation is data scientist",
      "metadata": {}
    },
    {
      "cell_type": "markdown",
      "source": "_I am interested in data science because in today's era, data plays a big role in our life. Unfortunately there are still a lot of people unaware about the importance of data, especially in Small and Medium Enterprises (SMEs) industry. Hence, I would like to be able to help SMEs to grow together so we could make a better and sustainable society as a data scientist._",
      "metadata": {}
    },
    {
      "cell_type": "markdown",
      "source": "### Print the output of multiplication",
      "metadata": {}
    },
    {
      "cell_type": "code",
      "source": "12*6",
      "metadata": {
        "trusted": true
      },
      "execution_count": 2,
      "outputs": [
        {
          "execution_count": 2,
          "output_type": "execute_result",
          "data": {
            "text/plain": "72"
          },
          "metadata": {}
        }
      ]
    },
    {
      "cell_type": "markdown",
      "source": "<a href=\"https://google.com/\">Google Search Engine</a> <br>\nShopping List\n1. Carrot\n2. Milk\n3. ~Apple~ Orange\n4. Tea\n\nAdditional\n- Sugar\n- Salt",
      "metadata": {}
    }
  ]
}